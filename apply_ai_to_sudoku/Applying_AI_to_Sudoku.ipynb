{
 "cells": [
  {
   "cell_type": "markdown",
   "metadata": {},
   "source": [
    "This is a simple demonstration showing how to systematically solve a Sudoku using Constraint Propagation and simulation techniques common in AI."
   ]
  },
  {
   "cell_type": "code",
   "execution_count": 1,
   "metadata": {
    "collapsed": true
   },
   "outputs": [],
   "source": [
    "from function import *\n",
    "from utils import *"
   ]
  },
  {
   "cell_type": "code",
   "execution_count": 2,
   "metadata": {
    "collapsed": true
   },
   "outputs": [],
   "source": [
    "%reload_ext autoreload\n",
    "%autoreload 2"
   ]
  },
  {
   "cell_type": "markdown",
   "metadata": {},
   "source": [
    "## Solving a easy Sudoku\n",
    "Theoretically, every square/box in the Sudoku board can be filled with digits from 0 to 9. We will use two simple heuristics to reduce the possible digits of every unfilled box using information from their peers. \n",
    "\n",
    "- Elimination\n",
    "- Only choise"
   ]
  },
  {
   "cell_type": "markdown",
   "metadata": {},
   "source": [
    "<img src=\"images/sudoku.png\" width=\"50%\"/>"
   ]
  },
  {
   "cell_type": "markdown",
   "metadata": {},
   "source": [
    "### Encoding the board\n",
    "Transform sudoku board into string / dict format for further processing"
   ]
  },
  {
   "cell_type": "code",
   "execution_count": 19,
   "metadata": {
    "collapsed": true
   },
   "outputs": [],
   "source": [
    "grid = '..3.2.6..9..3.5..1..18.64....81.29..7.......8..67.82....26.95..8..2.3..9..5.1.3..'"
   ]
  },
  {
   "cell_type": "code",
   "execution_count": 20,
   "metadata": {},
   "outputs": [
    {
     "name": "stdout",
     "output_type": "stream",
     "text": [
      ". . 3 |. 2 . |6 . . \n",
      "9 . . |3 . 5 |. . 1 \n",
      ". . 1 |8 . 6 |4 . . \n",
      "------+------+------\n",
      ". . 8 |1 . 2 |9 . . \n",
      "7 . . |. . . |. . 8 \n",
      ". . 6 |7 . 8 |2 . . \n",
      "------+------+------\n",
      ". . 2 |6 . 9 |5 . . \n",
      "8 . . |2 . 3 |. . 9 \n",
      ". . 5 |. 1 . |3 . . \n"
     ]
    }
   ],
   "source": [
    "display(grid_values_v1(grid))"
   ]
  },
  {
   "cell_type": "markdown",
   "metadata": {},
   "source": [
    "### Strategy 1: Elimination\n",
    "Constraint the possible values of unfilled boxes by peers' values. Peers are divided into three types: \n",
    "1. Row unit\n",
    "2. Column unit\n",
    "3. 3 x 3 Square unit"
   ]
  },
  {
   "cell_type": "markdown",
   "metadata": {},
   "source": [
    "<img src=\"images/sudoku_eliminate.png\" width=\"50%\"/>"
   ]
  },
  {
   "cell_type": "markdown",
   "metadata": {},
   "source": [
    "#### Replace '.' with all possible values"
   ]
  },
  {
   "cell_type": "code",
   "execution_count": 21,
   "metadata": {},
   "outputs": [
    {
     "name": "stdout",
     "output_type": "stream",
     "text": [
      "123456789 123456789     3     |123456789     2     123456789 |    6     123456789 123456789 \n",
      "    9     123456789 123456789 |    3     123456789     5     |123456789 123456789     1     \n",
      "123456789 123456789     1     |    8     123456789     6     |    4     123456789 123456789 \n",
      "------------------------------+------------------------------+------------------------------\n",
      "123456789 123456789     8     |    1     123456789     2     |    9     123456789 123456789 \n",
      "    7     123456789 123456789 |123456789 123456789 123456789 |123456789 123456789     8     \n",
      "123456789 123456789     6     |    7     123456789     8     |    2     123456789 123456789 \n",
      "------------------------------+------------------------------+------------------------------\n",
      "123456789 123456789     2     |    6     123456789     9     |    5     123456789 123456789 \n",
      "    8     123456789 123456789 |    2     123456789     3     |123456789 123456789     9     \n",
      "123456789 123456789     5     |123456789     1     123456789 |    3     123456789 123456789 \n"
     ]
    }
   ],
   "source": [
    "display(grid_values(grid))"
   ]
  },
  {
   "cell_type": "markdown",
   "metadata": {},
   "source": [
    "#### After elimination"
   ]
  },
  {
   "cell_type": "code",
   "execution_count": 22,
   "metadata": {},
   "outputs": [
    {
     "name": "stdout",
     "output_type": "stream",
     "text": [
      "   45    4578    3   |   49     2     147  |   6     5789    57  \n",
      "   9    24678    47  |   3      47     5   |   78    278     1   \n",
      "   25    257     1   |   8      79     6   |   4    23579   2357 \n",
      "---------------------+---------------------+---------------------\n",
      "  345    345     8   |   1     3456    2   |   9    34567  34567 \n",
      "   7    123459   49  |  459   34569    4   |   1    13456    8   \n",
      "  1345  13459    6   |   7     3459    8   |   2     1345   345  \n",
      "---------------------+---------------------+---------------------\n",
      "  134    1347    2   |   6     478     9   |   5     1478    47  \n",
      "   8     1467    47  |   2     457     3   |   17    1467    9   \n",
      "   46    4679    5   |   4      1      47  |   3    24678   2467 \n"
     ]
    }
   ],
   "source": [
    "display(eliminate(grid_values(grid)))"
   ]
  },
  {
   "cell_type": "markdown",
   "metadata": {},
   "source": [
    "### Strategy 2: Only Choice\n",
    "If a digit only appear once in a box as candidate in a unit, we're assured that the digit should be in the unfilled box because there is no other possible places/boxes to put the digit."
   ]
  },
  {
   "cell_type": "markdown",
   "metadata": {},
   "source": [
    "<img src=\"images/sudoku_only_choice.png\" width=\"50%\"/>\n"
   ]
  },
  {
   "cell_type": "code",
   "execution_count": 23,
   "metadata": {},
   "outputs": [
    {
     "name": "stdout",
     "output_type": "stream",
     "text": [
      "  45   4578   3   |  49    2     1   |  6    5789   57  \n",
      "  9     6     47  |  3     47    5   |  8    278    1   \n",
      "  2    257    1   |  8     79    6   |  4   23579  2357 \n",
      "------------------+------------------+------------------\n",
      " 345   345    8   |  1    3456   2   |  9   34567 34567 \n",
      "  7     2     9   |  5   34569   4   |  1   13456   8   \n",
      " 1345 13459   6   |  7    3459   8   |  2    1345  345  \n",
      "------------------+------------------+------------------\n",
      " 134   1347   2   |  6     8     9   |  5    1478   47  \n",
      "  8    1467   47  |  2     5     3   |  17   1467   9   \n",
      "  6     9     5   |  4     1     47  |  3     8    2467 \n"
     ]
    }
   ],
   "source": [
    "display(only_choice(eliminate(grid_values(grid))))"
   ]
  },
  {
   "cell_type": "markdown",
   "metadata": {
    "collapsed": true
   },
   "source": [
    "### Constraint Propagation"
   ]
  },
  {
   "cell_type": "code",
   "execution_count": 24,
   "metadata": {},
   "outputs": [
    {
     "name": "stdout",
     "output_type": "stream",
     "text": [
      "4 8 3 |9 2 1 |6 5 7 \n",
      "9 6 7 |3 4 5 |8 2 1 \n",
      "2 5 1 |8 7 6 |4 9 3 \n",
      "------+------+------\n",
      "5 4 8 |1 3 2 |9 7 6 \n",
      "7 2 9 |5 6 4 |1 3 8 \n",
      "1 3 6 |7 9 8 |2 4 5 \n",
      "------+------+------\n",
      "3 7 2 |6 8 9 |5 1 4 \n",
      "8 1 4 |2 5 3 |7 6 9 \n",
      "6 9 5 |4 1 7 |3 8 2 \n"
     ]
    }
   ],
   "source": [
    "display(reduce_puzzle(grid_values(grid)))"
   ]
  },
  {
   "cell_type": "markdown",
   "metadata": {},
   "source": [
    "<img src=\"images/sudoku_answer.png\" width=\"50%\"/>\n"
   ]
  },
  {
   "cell_type": "markdown",
   "metadata": {},
   "source": [
    "## Harder Sudoku"
   ]
  },
  {
   "cell_type": "markdown",
   "metadata": {},
   "source": [
    "<img src=\"images/harder-puzzle.png\" width=\"50%\"/>\n"
   ]
  },
  {
   "cell_type": "code",
   "execution_count": 25,
   "metadata": {},
   "outputs": [
    {
     "name": "stdout",
     "output_type": "stream",
     "text": [
      "   4      1679   12679  |  139     2369    269   |   8      1239     5    \n",
      " 26789     3    1256789 | 14589   24569   245689 | 12679    1249   124679 \n",
      "  2689   15689   125689 |   7     234569  245689 | 12369   12349   123469 \n",
      "------------------------+------------------------+------------------------\n",
      "  3789     2     15789  |  3459   34579    4579  | 13579     6     13789  \n",
      "  3679   15679   15679  |  359      8     25679  |   4     12359   12379  \n",
      " 36789     4     56789  |  359      1     25679  | 23579   23589   23789  \n",
      "------------------------+------------------------+------------------------\n",
      "  289      89     289   |   6      459      3    |  1259     7     12489  \n",
      "   5      6789     3    |   2      479      1    |   69     489     4689  \n",
      "   1      6789     4    |  589     579     5789  | 23569   23589   23689  \n"
     ]
    }
   ],
   "source": [
    "grid2 = '4.....8.5.3..........7......2.....6.....8.4......1.......6.3.7.5..2.....1.4......'\n",
    "values = grid_values(grid2)\n",
    "display(reduce_puzzle(values))"
   ]
  },
  {
   "cell_type": "markdown",
   "metadata": {},
   "source": [
    "### Strategy 3: Search\n",
    "Use DFS first."
   ]
  },
  {
   "cell_type": "markdown",
   "metadata": {},
   "source": [
    "<img src=\"images/DFS.png\" width=\"50%\"/>\n"
   ]
  },
  {
   "cell_type": "code",
   "execution_count": 26,
   "metadata": {
    "collapsed": true
   },
   "outputs": [],
   "source": [
    "def search(values):\n",
    "    \"Using depth-first search and propagation, create a search tree and solve the sudoku.\"\n",
    "    # First, reduce the puzzle using the previous function\n",
    "    values = reduce_puzzle(values)\n",
    "    if not values: return values # fail case\n",
    "    \n",
    "    # Choose one of the unfilled squares with the fewest possibilities\n",
    "    box, digits = min(values.items(),\n",
    "                      key=lambda x: len(x[1]) if len(x[1]) != 1 else 10)\n",
    "    \n",
    "    if len(digits) == 1:\n",
    "        # print('Sudoku solved.(no square with > 1 digit)')\n",
    "        return values\n",
    "    else:\n",
    "        for digit in digits:\n",
    "            values_simulate = dict(values)\n",
    "            values_simulate[box] = digit\n",
    "            attempt = search(values_simulate)\n",
    "            if attempt:\n",
    "                return attempt\n"
   ]
  },
  {
   "cell_type": "code",
   "execution_count": 27,
   "metadata": {},
   "outputs": [
    {
     "name": "stdout",
     "output_type": "stream",
     "text": [
      "4 1 7 |3 6 9 |8 2 5 \n",
      "6 3 2 |1 5 8 |9 4 7 \n",
      "9 5 8 |7 2 4 |3 1 6 \n",
      "------+------+------\n",
      "8 2 5 |4 3 7 |1 6 9 \n",
      "7 9 1 |5 8 6 |4 3 2 \n",
      "3 4 6 |9 1 2 |7 5 8 \n",
      "------+------+------\n",
      "2 8 9 |6 4 3 |5 7 1 \n",
      "5 7 3 |2 9 1 |6 8 4 \n",
      "1 6 4 |8 7 5 |2 9 3 \n"
     ]
    }
   ],
   "source": [
    "display(search(values))"
   ]
  },
  {
   "cell_type": "markdown",
   "metadata": {},
   "source": [
    "## Naked Twins "
   ]
  },
  {
   "cell_type": "markdown",
   "metadata": {},
   "source": [
    "<img src=\"images/naked-twins-2.png\" width=\"50%\"/>"
   ]
  },
  {
   "cell_type": "markdown",
   "metadata": {},
   "source": [
    "### Sudoku with naked twins"
   ]
  },
  {
   "cell_type": "code",
   "execution_count": 28,
   "metadata": {
    "collapsed": true
   },
   "outputs": [],
   "source": [
    "values = {'I6': '4', 'H9': '3', 'I2': '6', 'E8': '1', 'H3': '5', 'H7': '8', 'I7': '1', 'I4': '8',\n",
    "'H5': '6', 'F9': '7', 'G7': '6', 'G6': '3', 'G5': '2', 'E1': '8', 'G3': '1', 'G2': '8',\n",
    "'G1': '7', 'I1': '23', 'C8': '5', 'I3': '23', 'E5': '347', 'I5': '5', 'C9': '1', 'G9': '5',\n",
    "'G8': '4', 'A1': '1', 'A3': '4', 'A2': '237', 'A5': '9', 'A4': '2357', 'A7': '27',\n",
    "'A6': '257', 'C3': '8', 'C2': '237', 'C1': '23', 'E6': '579', 'C7': '9', 'C6': '6',\n",
    "'C5': '37', 'C4': '4', 'I9': '9', 'D8': '8', 'I8': '7', 'E4': '6', 'D9': '6', 'H8': '2',\n",
    "'F6': '125', 'A9': '8', 'G4': '9', 'A8': '6', 'E7': '345', 'E3': '379', 'F1': '6',\n",
    "'F2': '4', 'F3': '23', 'F4': '1235', 'F5': '8', 'E2': '37', 'F7': '35', 'F8': '9',\n",
    "'D2': '1', 'H1': '4', 'H6': '17', 'H2': '9', 'H4': '17', 'D3': '2379', 'B4': '27',\n",
    "'B5': '1', 'B6': '8', 'B7': '27', 'E9': '2', 'B1': '9', 'B2': '5', 'B3': '6', 'D6': '279',\n",
    "'D7': '34', 'D4': '237', 'D5': '347', 'B8': '3', 'B9': '4', 'D1': '5'}"
   ]
  },
  {
   "cell_type": "code",
   "execution_count": 29,
   "metadata": {},
   "outputs": [
    {
     "name": "stdout",
     "output_type": "stream",
     "text": [
      "  1   237   4  | 2357  9   257 |  27   6    8  \n",
      "  9    5    6  |  27   1    8  |  27   3    4  \n",
      "  23  237   8  |  4    37   6  |  9    5    1  \n",
      "---------------+---------------+---------------\n",
      "  5    1   2379| 237  347  279 |  34   8    6  \n",
      "  8    37  379 |  6   347  579 | 345   1    2  \n",
      "  6    4    23 | 1235  8   125 |  35   9    7  \n",
      "---------------+---------------+---------------\n",
      "  7    8    1  |  9    2    3  |  6    4    5  \n",
      "  4    9    5  |  17   6    17 |  8    2    3  \n",
      "  23   6    23 |  8    5    4  |  1    7    9  \n"
     ]
    }
   ],
   "source": [
    "display(values)"
   ]
  },
  {
   "cell_type": "markdown",
   "metadata": {
    "collapsed": true
   },
   "source": [
    "### After eliminating naked twins"
   ]
  },
  {
   "cell_type": "code",
   "execution_count": 30,
   "metadata": {
    "scrolled": false
   },
   "outputs": [
    {
     "name": "stdout",
     "output_type": "stream",
     "text": [
      "  1   237   4  | 2357  9   257 |  27   6    8  \n",
      "  9    5    6  |  27   1    8  |  27   3    4  \n",
      "  23  237   8  |  4    37   6  |  9    5    1  \n",
      "---------------+---------------+---------------\n",
      "  5    1    79 | 237  347  279 |  34   8    6  \n",
      "  8    3    79 |  6   347  579 | 345   1    2  \n",
      "  6    4    23 | 1235  8   125 |  35   9    7  \n",
      "---------------+---------------+---------------\n",
      "  7    8    1  |  9    2    3  |  6    4    5  \n",
      "  4    9    5  |  17   6    17 |  8    2    3  \n",
      "  23   6    23 |  8    5    4  |  1    7    9  \n"
     ]
    }
   ],
   "source": [
    "display(naked_twins(values))"
   ]
  }
 ],
 "metadata": {
  "kernelspec": {
   "display_name": "Python [conda env:aind]",
   "language": "python",
   "name": "conda-env-aind-py"
  },
  "language_info": {
   "codemirror_mode": {
    "name": "ipython",
    "version": 3
   },
   "file_extension": ".py",
   "mimetype": "text/x-python",
   "name": "python",
   "nbconvert_exporter": "python",
   "pygments_lexer": "ipython3",
   "version": "3.6.0"
  },
  "toc": {
   "nav_menu": {
    "height": "261px",
    "width": "436px"
   },
   "number_sections": false,
   "sideBar": false,
   "skip_h1_title": false,
   "toc_cell": false,
   "toc_position": {
    "height": "69px",
    "left": "1212.44px",
    "right": "20px",
    "top": "120px",
    "width": "163px"
   },
   "toc_section_display": "block",
   "toc_window_display": false
  },
  "varInspector": {
   "cols": {
    "lenName": 16,
    "lenType": 16,
    "lenVar": 40
   },
   "kernels_config": {
    "python": {
     "delete_cmd_postfix": "",
     "delete_cmd_prefix": "del ",
     "library": "var_list.py",
     "varRefreshCmd": "print(var_dic_list())"
    },
    "r": {
     "delete_cmd_postfix": ") ",
     "delete_cmd_prefix": "rm(",
     "library": "var_list.r",
     "varRefreshCmd": "cat(var_dic_list()) "
    }
   },
   "types_to_exclude": [
    "module",
    "function",
    "builtin_function_or_method",
    "instance",
    "_Feature"
   ],
   "window_display": false
  }
 },
 "nbformat": 4,
 "nbformat_minor": 1
}
